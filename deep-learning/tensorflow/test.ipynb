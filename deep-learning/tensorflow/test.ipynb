{
 "cells": [
  {
   "cell_type": "code",
   "execution_count": 2,
   "metadata": {},
   "outputs": [],
   "source": [
    "%matplotlib inline\n",
    "import matplotlib.pyplot as plt\n",
    "import numpy as np\n",
    "import pandas as pd\n",
    "import tensorflow as tf"
   ]
  },
  {
   "cell_type": "code",
   "execution_count": 3,
   "metadata": {},
   "outputs": [
    {
     "name": "stdout",
     "output_type": "stream",
     "text": [
      "150\n"
     ]
    }
   ],
   "source": [
    "# add op\n",
    "a = tf.constant(100)\n",
    "b = tf.constant(50)\n",
    "add_op = a + b\n",
    "\n",
    "# define a variable\n",
    "v = tf.Variable(0)\n",
    "\n",
    "# assign v with the result of add operation\n",
    "let_op = tf.assign(v, add_op)\n",
    "\n",
    "# start a session\n",
    "sess = tf.Session()\n",
    "\n",
    "# initialize the variable\n",
    "sess.run(tf.global_variables_initializer())\n",
    "\n",
    "# execute let_op\n",
    "sess.run(let_op)\n",
    "\n",
    "# print the result\n",
    "print(sess.run(v))"
   ]
  },
  {
   "cell_type": "code",
   "execution_count": null,
   "metadata": {},
   "outputs": [],
   "source": []
  }
 ],
 "metadata": {
  "kernelspec": {
   "display_name": "Python 3",
   "language": "python",
   "name": "python3"
  },
  "language_info": {
   "codemirror_mode": {
    "name": "ipython",
    "version": 3
   },
   "file_extension": ".py",
   "mimetype": "text/x-python",
   "name": "python",
   "nbconvert_exporter": "python",
   "pygments_lexer": "ipython3",
   "version": "3.6.3"
  }
 },
 "nbformat": 4,
 "nbformat_minor": 2
}
